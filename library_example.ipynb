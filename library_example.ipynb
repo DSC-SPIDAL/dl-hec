{
  "nbformat": 4,
  "nbformat_minor": 0,
  "metadata": {
    "colab": {
      "provenance": []
    },
    "kernelspec": {
      "name": "python3",
      "display_name": "Python 3"
    },
    "language_info": {
      "name": "python"
    }
  },
  "cells": [
    {
      "cell_type": "code",
      "execution_count": 5,
      "metadata": {
        "colab": {
          "base_uri": "https://localhost:8080/"
        },
        "id": "aJxrIKheaFnL",
        "outputId": "ea305be1-b26f-4607-851a-b3120b151e83"
      },
      "outputs": [
        {
          "output_type": "execute_result",
          "data": {
            "text/plain": [
              "0"
            ]
          },
          "metadata": {},
          "execution_count": 5
        }
      ],
      "source": [
        "import os\n",
        "os.system(\"pip install -U cloudmesh.common\")"
      ]
    },
    {
      "cell_type": "code",
      "source": [
        "from cloudmesh.common.util import banner"
      ],
      "metadata": {
        "id": "1G4TQRC7aWlm"
      },
      "execution_count": 6,
      "outputs": []
    },
    {
      "cell_type": "code",
      "source": [
        "from cloudmesh.common.Shell import Shell"
      ],
      "metadata": {
        "id": "KwnYhkplegKe"
      },
      "execution_count": 7,
      "outputs": []
    },
    {
      "cell_type": "code",
      "source": [
        "banner(\"hallo\")"
      ],
      "metadata": {
        "colab": {
          "base_uri": "https://localhost:8080/"
        },
        "id": "3kDJ4gJ3abbg",
        "outputId": "2c09667f-e307-41f9-b82c-042c568b1f61"
      },
      "execution_count": 8,
      "outputs": [
        {
          "output_type": "stream",
          "name": "stdout",
          "text": [
            "\n",
            "# ----------------------------------------------------------------------\n",
            "# hallo\n",
            "# ----------------------------------------------------------------------\n",
            "\n"
          ]
        }
      ]
    },
    {
      "cell_type": "code",
      "source": [
        "basedir = Shell.pwd()\n",
        "datadir = f\"{basedir}/data\""
      ],
      "metadata": {
        "id": "LftGR82OemE0"
      },
      "execution_count": 27,
      "outputs": []
    },
    {
      "cell_type": "code",
      "source": [
        "content = Shell.mkdir(datadir)\n",
        "os.system(f\"echo >> {datadir}/gregor.txt\")\n",
        "content = Shell.run(f\"ls {datadir}\")\n",
        "print (content)"
      ],
      "metadata": {
        "colab": {
          "base_uri": "https://localhost:8080/"
        },
        "id": "2dhKuV-BkJpt",
        "outputId": "37c5e35c-a1e3-4c2f-9ece-5f880ad3c994"
      },
      "execution_count": 37,
      "outputs": [
        {
          "output_type": "stream",
          "name": "stdout",
          "text": [
            "gregor.txt\n",
            "\n"
          ]
        }
      ]
    },
    {
      "cell_type": "code",
      "source": [
        "os.system(\"pip uninstall -y hec\")\n",
        "os.system(\"pip install -U git+https://github.com/DSC-SPIDAL/dl-hec.git\")"
      ],
      "metadata": {
        "colab": {
          "base_uri": "https://localhost:8080/"
        },
        "id": "XWsDheMrgbah",
        "outputId": "cb1efacb-0252-4cbc-b01d-8ce9d2dfa3fb"
      },
      "execution_count": 38,
      "outputs": [
        {
          "output_type": "execute_result",
          "data": {
            "text/plain": [
              "0"
            ]
          },
          "metadata": {},
          "execution_count": 38
        }
      ]
    },
    {
      "cell_type": "code",
      "source": [
        "from hec.util import timenow"
      ],
      "metadata": {
        "id": "wIFn5X-shZqE"
      },
      "execution_count": 39,
      "outputs": []
    },
    {
      "cell_type": "code",
      "source": [
        "t = timenow()\n",
        "print (t)"
      ],
      "metadata": {
        "colab": {
          "base_uri": "https://localhost:8080/"
        },
        "id": "uOcMCaKKikIz",
        "outputId": "d81e36da-c7d4-4506-e55a-dc9fafc6f8e9"
      },
      "execution_count": 40,
      "outputs": [
        {
          "output_type": "stream",
          "name": "stdout",
          "text": [
            "12/28/2022, 16:43:51 UTC\n"
          ]
        }
      ]
    },
    {
      "cell_type": "code",
      "source": [
        "from hec.util import NaN\n",
        "print (NaN)"
      ],
      "metadata": {
        "colab": {
          "base_uri": "https://localhost:8080/"
        },
        "id": "BtiRYPsjj4IB",
        "outputId": "82c74aa7-ea0e-451e-cce5-5cbe23e34769"
      },
      "execution_count": 41,
      "outputs": [
        {
          "output_type": "stream",
          "name": "stdout",
          "text": [
            "nan\n"
          ]
        }
      ]
    }
  ]
}