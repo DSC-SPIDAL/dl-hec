{
 "nbformat": 4,
 "nbformat_minor": 0,
 "metadata": {
  "colab": {
   "provenance": []
  },
  "kernelspec": {
   "name": "python3",
   "display_name": "Python 3"
  },
  "language_info": {
   "name": "python"
  }
 },
 "cells": [
  {
   "cell_type": "markdown",
   "source": [
    "# Portable Jupyter Notebooks and libraries\n",
    "\n",
    "Gregor von Laszewski, laszewski@gmail.com\n",
    "\n",
    "In this notebook we demonstrate a portable way to develap large jupyter notebooks."
   ],
   "metadata": {
    "collapsed": false,
    "pycharm": {
     "name": "#%% md\n"
    }
   }
  },
  {
   "cell_type": "markdown",
   "source": [
    "## Editor\n",
    "\n",
    "Although colab provides an online editor, this editor has limited features and\n",
    "we recommend avoiding it. The same is said for jupyter notebooks as well as\n",
    "its successor jupyter-lab. They are good for interactively experimenting\n",
    "with notebooks when features are not supported by other more powerful editors.\n",
    "\n",
    "Two other editors are avaloable. VSCode and pyCharm. We recommend pyCharm as it\n",
    "has many code checking and formating features that are just right for developing\n",
    "large jupyter scripts.\n",
    "\n",
    "### Pycharm configuration\n",
    "\n",
    "It is important to create a python venv that you register with your pycharm\n",
    "environment so that it is the same as you use on the commandline. We name the\n",
    "environment ENV3. To do this you use\n",
    "\n",
    "```bash\n",
    "python -m venv ~/ENV3\n",
    "```\n",
    "\n",
    "To activate it in the command line you say\n",
    "\n",
    "```bash\n",
    "source ~/ENV3/bin/activate\n",
    "```\n",
    "\n",
    "For Windows you say\n",
    "\n",
    "```bash\n",
    "source ~/ENV3/Scripts/activate\n",
    "```\n",
    "\n",
    "You can then install with pip or requirements.txt files modules in theis\n",
    "environment after you ativate it. However if you were to use Google colab, it\n",
    "is easier to embed such activities in your program. This makes them portable\n",
    "across colab, and your local machine.\n",
    "\n",
    "### Installing Libraries\n",
    "\n",
    "We will give here an example on how to install cloudmesh a library with many\n",
    "useful add ons that makes managing some portion of your large script much easier.\n",
    "To install the library use"
   ],
   "metadata": {
    "collapsed": false,
    "pycharm": {
     "name": "#%% md\n"
    }
   }
  },
  {
   "cell_type": "code",
   "execution_count": 23,
   "outputs": [
    {
     "name": "stdout",
     "output_type": "stream",
     "text": [
      "Requirement already satisfied: cloudmesh.common in /Users/grey/Desktop/github/cloudmesh-community/cm/cloudmesh-common (4.3.162)\n",
      "Requirement already satisfied: psutil in /Users/grey/ENV3/lib/python3.11/site-packages (from cloudmesh.common) (5.9.3)\n",
      "Requirement already satisfied: pytz in /Users/grey/ENV3/lib/python3.11/site-packages (from cloudmesh.common) (2022.5)\n",
      "Requirement already satisfied: python-hostlist in /Users/grey/ENV3/lib/python3.11/site-packages (from cloudmesh.common) (1.22)\n",
      "Requirement already satisfied: simplejson in /Users/grey/ENV3/lib/python3.11/site-packages (from cloudmesh.common) (3.17.6)\n",
      "Requirement already satisfied: oyaml in /Users/grey/ENV3/lib/python3.11/site-packages (from cloudmesh.common) (1.0)\n",
      "Requirement already satisfied: colorama in /Users/grey/ENV3/lib/python3.11/site-packages (from cloudmesh.common) (0.4.4)\n",
      "Requirement already satisfied: humanize in /Users/grey/ENV3/lib/python3.11/site-packages (from cloudmesh.common) (4.4.0)\n",
      "Requirement already satisfied: python-dateutil in /Users/grey/ENV3/lib/python3.11/site-packages (from cloudmesh.common) (2.8.2)\n",
      "Requirement already satisfied: tabulate in /Users/grey/ENV3/lib/python3.11/site-packages (from cloudmesh.common) (0.9.0)\n",
      "Requirement already satisfied: requests in /Users/grey/ENV3/lib/python3.11/site-packages (from cloudmesh.common) (2.28.1)\n",
      "Requirement already satisfied: pyfiglet in /Users/grey/ENV3/lib/python3.11/site-packages (from cloudmesh.common) (0.8.post1)\n",
      "Requirement already satisfied: tqdm in /Users/grey/ENV3/lib/python3.11/site-packages (from cloudmesh.common) (4.64.1)\n",
      "Requirement already satisfied: pyyaml in /Users/grey/ENV3/lib/python3.11/site-packages (from oyaml->cloudmesh.common) (5.4.1)\n",
      "Requirement already satisfied: six>=1.5 in /Users/grey/ENV3/lib/python3.11/site-packages (from python-dateutil->cloudmesh.common) (1.16.0)\n",
      "Requirement already satisfied: charset-normalizer<3,>=2 in /Users/grey/ENV3/lib/python3.11/site-packages (from requests->cloudmesh.common) (2.1.1)\n",
      "Requirement already satisfied: idna<4,>=2.5 in /Users/grey/ENV3/lib/python3.11/site-packages (from requests->cloudmesh.common) (3.4)\n",
      "Requirement already satisfied: urllib3<1.27,>=1.21.1 in /Users/grey/ENV3/lib/python3.11/site-packages (from requests->cloudmesh.common) (1.26.12)\n",
      "Requirement already satisfied: certifi>=2017.4.17 in /Users/grey/ENV3/lib/python3.11/site-packages (from requests->cloudmesh.common) (2022.9.24)\n"
     ]
    },
    {
     "data": {
      "text/plain": "0"
     },
     "execution_count": 23,
     "metadata": {},
     "output_type": "execute_result"
    }
   ],
   "source": [
    "import os\n",
    "os.system(\"pip install -U cloudmesh.common\")"
   ],
   "metadata": {
    "collapsed": false,
    "pycharm": {
     "name": "#%%\n"
    }
   }
  },
  {
   "cell_type": "markdown",
   "source": [
    "Now you can use the many useful features of cloudmesh. One is the easy availability\n",
    "of a banner that makes print statements more visible by putting a frame aound it."
   ],
   "metadata": {
    "collapsed": false,
    "pycharm": {
     "name": "#%% md\n"
    }
   }
  },
  {
   "cell_type": "code",
   "source": [
    "from cloudmesh.common.util import banner\n",
    "banner(\"hallo\")"
   ],
   "metadata": {
    "id": "1G4TQRC7aWlm",
    "pycharm": {
     "name": "#%%\n"
    }
   },
   "execution_count": 24,
   "outputs": [
    {
     "name": "stdout",
     "output_type": "stream",
     "text": [
      "\n",
      "# ----------------------------------------------------------------------\n",
      "# hallo\n",
      "# ----------------------------------------------------------------------\n",
      "\n"
     ]
    }
   ]
  },
  {
   "cell_type": "markdown",
   "source": [
    "One additional function is an anhanced command to run commanline programs from\n",
    "within jupyter notebooks as well as regular pythin programs. This method is\n",
    "prefered as it allows portable program execution across a variety of operating\n",
    "systems, google colab, and other environments. Thus we **DO NOT** recommend\n",
    "that you use ! or !! as command execution as it will potentially making the\n",
    "move to a future integarion in a python library of portions of the notebook\n",
    "more difficult. Instead just use the command `Shell` class from cloudmesh\n",
    "that contains mainy useful methods portable between operating systems. Such\n",
    "methods include for example `pwd`, `mkdir`, `run`, `grep`, `cm_grep` (a grep\n",
    "portable in windows, Linux, and Mac), and so on. Please refer to\n",
    "[https://github.com/cloudmesh/cloudmesh-common/blob/main/cloudmesh/common/Shell.py](Shell.py)"
   ],
   "metadata": {
    "collapsed": false,
    "pycharm": {
     "name": "#%% md\n"
    }
   }
  },
  {
   "cell_type": "code",
   "source": [
    "from cloudmesh.common.Shell import Shell"
   ],
   "metadata": {
    "id": "KwnYhkplegKe",
    "pycharm": {
     "name": "#%%\n"
    }
   },
   "execution_count": 25,
   "outputs": []
  },
  {
   "cell_type": "code",
   "source": [
    "basedir = Shell.pwd()\n",
    "print(basedir)"
   ],
   "metadata": {
    "id": "LftGR82OemE0",
    "pycharm": {
     "name": "#%%\n"
    }
   },
   "execution_count": 26,
   "outputs": [
    {
     "name": "stdout",
     "output_type": "stream",
     "text": [
      "/Users/grey/Desktop/github/dsc-spidal/dl-hec\n"
     ]
    }
   ]
  },
  {
   "cell_type": "code",
   "execution_count": 27,
   "outputs": [],
   "source": [
    "datadir = f\"{basedir}/data\""
   ],
   "metadata": {
    "collapsed": false,
    "pycharm": {
     "name": "#%%\n"
    }
   }
  },
  {
   "cell_type": "code",
   "source": [
    "content = Shell.mkdir(datadir)\n",
    "os.system(f\"echo >> {datadir}/gregor.txt\")\n",
    "content = Shell.run(f\"ls {datadir}\")\n",
    "print (content)"
   ],
   "metadata": {
    "colab": {
     "base_uri": "https://localhost:8080/"
    },
    "id": "2dhKuV-BkJpt",
    "outputId": "37c5e35c-a1e3-4c2f-9ece-5f880ad3c994",
    "pycharm": {
     "name": "#%%\n"
    }
   },
   "execution_count": 28,
   "outputs": [
    {
     "name": "stdout",
     "output_type": "stream",
     "text": [
      "gregor.txt\n",
      "\n"
     ]
    }
   ]
  },
  {
   "cell_type": "markdown",
   "source": [
    "## Installing libraries directly from github\n",
    "\n",
    "To develop in a team large libraries it is best practice to use a code\n",
    "repository such as GitHub. However, although instalation of libarries into the\n",
    "venv on your local machine is simple and usually done with a requiremets.txt file,\n",
    "we can also install them directly on your local machine when checking out the code\n",
    "and using in the directory `pip install -e .` (the dot is important).\n",
    "This will make it possible on your local machine to make modifications that are\n",
    "directly available to you without reinstalling it once you do a change\n",
    "on you rlocal machine.\n",
    "\n",
    "However, on google colab you may need to do this directly from the notebook.\n",
    "It is to be noted that if you make a change the notebook kernal needs to be\n",
    "stopped or interrupted and restarted before you load in the new library. It is\n",
    "not sufficient to just go in the cell and rerun it. This means you have to\n",
    "start the notebook form the beginning. For this reason it is best to do all\n",
    "development first on the local computer before you move to colab. It will\n",
    "simplify your development cycle, especially when developing libtraries.\n",
    "Thus notebooks are not realy suitable for best practices in software\n",
    "engeneering, but are great for interactive exploration of principles\n",
    "and experiments.\n",
    "\n",
    "To include a library that is hosted on GitHub we simply can activate it in google\n",
    " col;ab directly from the latest version of the code such as (but do not forget\n",
    " to interrupt the kernal and restart it before doing this command as otherwise\n",
    " an earlier verison may be still available.)"
   ],
   "metadata": {
    "collapsed": false,
    "pycharm": {
     "name": "#%% md\n"
    }
   }
  },
  {
   "cell_type": "code",
   "source": [
    "print(Shell.run(\"pip install -U git+https://github.com/DSC-SPIDAL/dl-hec.git\"))"
   ],
   "metadata": {
    "colab": {
     "base_uri": "https://localhost:8080/"
    },
    "id": "XWsDheMrgbah",
    "outputId": "cb1efacb-0252-4cbc-b01d-8ce9d2dfa3fb",
    "pycharm": {
     "name": "#%%\n"
    }
   },
   "execution_count": 29,
   "outputs": [
    {
     "name": "stdout",
     "output_type": "stream",
     "text": [
      "Collecting git+https://github.com/DSC-SPIDAL/dl-hec.git\n",
      "  Cloning https://github.com/DSC-SPIDAL/dl-hec.git to /private/var/folders/q5/s8_pcggn5f73xnz11zjqrhlw0000gp/T/pip-req-build-87oh7t0a\n",
      "  Running command git clone --filter=blob:none --quiet https://github.com/DSC-SPIDAL/dl-hec.git /private/var/folders/q5/s8_pcggn5f73xnz11zjqrhlw0000gp/T/pip-req-build-87oh7t0a\n",
      "  Resolved https://github.com/DSC-SPIDAL/dl-hec.git to commit 36fd5def45d517abf6494208134222dcee427b1c\n",
      "  Preparing metadata (setup.py): started\n",
      "  Preparing metadata (setup.py): finished with status 'done'\n",
      "\n"
     ]
    }
   ]
  },
  {
   "cell_type": "markdown",
   "source": [
    "Now you can use the functions defined in hec.util"
   ],
   "metadata": {
    "collapsed": false,
    "pycharm": {
     "name": "#%% md\n"
    }
   }
  },
  {
   "cell_type": "code",
   "source": [
    "from hec.util import timenow"
   ],
   "metadata": {
    "id": "wIFn5X-shZqE",
    "pycharm": {
     "name": "#%%\n"
    }
   },
   "execution_count": 30,
   "outputs": []
  },
  {
   "cell_type": "code",
   "source": [
    "t = timenow()\n",
    "print (t)"
   ],
   "metadata": {
    "colab": {
     "base_uri": "https://localhost:8080/"
    },
    "id": "uOcMCaKKikIz",
    "outputId": "d81e36da-c7d4-4506-e55a-dc9fafc6f8e9",
    "pycharm": {
     "name": "#%%\n"
    }
   },
   "execution_count": 31,
   "outputs": [
    {
     "name": "stdout",
     "output_type": "stream",
     "text": [
      "01/03/2023, 09:01:47 UTC\n"
     ]
    }
   ]
  },
  {
   "cell_type": "code",
   "execution_count": 32,
   "outputs": [
    {
     "name": "stdout",
     "output_type": "stream",
     "text": [
      "nan\n"
     ]
    }
   ],
   "source": [
    "from hec.util import NaN\n",
    "print (NaN)"
   ],
   "metadata": {
    "collapsed": false,
    "pycharm": {
     "name": "#%%\n"
    }
   }
  },
  {
   "cell_type": "markdown",
   "source": [
    "## Globals\n",
    "\n",
    "Using Global variable is often to be avoided as it can introduce unintended\n",
    "side effects. However, in some cases they can be an easy way to communicate\n",
    "global state in programs. HOwever the following has to be considered:\n",
    "\n",
    "1. globals are defined sepeartly for each file. Thus if they need to be reused\n",
    "   between files they must be explicitly defined in each file the same global is\n",
    "   reused.\n",
    "2. Before a global variable can be reused it must be decalerd and initialized.\n",
    "   Without that the global variable can not be used\n",
    "3. It is advisable in large programs to declare all globals in a single file so\n",
    "   it is easier to track if they have been declared. It is possible to have\n",
    "   multiple such files, so that they can be organized by concern/topic.\n",
    "4. If used in a notebook, the initialization of the global variables need to\n",
    "   be done first. Then each variable used needs to be explicily imported. It\n",
    "   helps to create such imports as comments in the file they are decalared so\n",
    "   the import can be copied into other files using the global statement.\n",
    "   To remove the comments in the file where they are supposed to be\n",
    "   used simply highlight all lines with the commented globals and say\n",
    "   `COMAND-/` to remove the `#`. We recommend that you remove all global\n",
    "   variables statements that you do not use"
   ],
   "metadata": {
    "collapsed": false,
    "pycharm": {
     "name": "#%% md\n"
    }
   }
  },
  {
   "cell_type": "markdown",
   "source": [
    "**THIS IS NOT YET WORKING**"
   ],
   "metadata": {
    "collapsed": false,
    "pycharm": {
     "name": "#%% md\n"
    }
   }
  },
  {
   "cell_type": "code",
   "execution_count": 1,
   "outputs": [
    {
     "name": "stdout",
     "output_type": "stream",
     "text": [
      "None\n",
      "check if it is in globals: True\n",
      "None\n",
      "1\n",
      "my_global_a=1 should be 1\n"
     ]
    }
   ],
   "source": [
    "from hec.global_variables import my_global_a\n",
    "from pprint import pprint\n",
    "\n",
    "print(my_global_a)\n",
    "\n",
    "print(\"check if it is in globals:\", 'my_global_a' in globals())\n",
    "\n",
    "def my_function_using_a_global():\n",
    "    global my_global_a\n",
    "    print(my_global_a)\n",
    "    my_global_a = 1\n",
    "    print(my_global_a)\n",
    "\n",
    "my_function_using_a_global()\n",
    "\n",
    "print (f\"my_global_a={my_global_a}\", \"should be 1\")"
   ],
   "metadata": {
    "collapsed": false,
    "pycharm": {
     "name": "#%%\n"
    }
   }
  },
  {
   "cell_type": "markdown",
   "source": [
    "To import all global variables from a file we can use the usual mport pythoin\n",
    "statement with an as statement to give it a \"topic\" name so we can use it while\n",
    "preceeding the topic name"
   ],
   "metadata": {
    "collapsed": false,
    "pycharm": {
     "name": "#%% md\n"
    }
   }
  },
  {
   "cell_type": "code",
   "execution_count": 2,
   "outputs": [
    {
     "name": "stdout",
     "output_type": "stream",
     "text": [
      "None\n",
      "b\n",
      "c\n"
     ]
    }
   ],
   "source": [
    "import hec.global_variables as gl\n",
    "\n",
    "print (gl.my_global_a)\n",
    "print(gl.my_global_b)\n",
    "print(gl.my_global_c)"
   ],
   "metadata": {
    "collapsed": false,
    "pycharm": {
     "name": "#%%\n"
    }
   }
  },
  {
   "cell_type": "markdown",
   "source": [
    "Naturally, we still could use an explicit import"
   ],
   "metadata": {
    "collapsed": false,
    "pycharm": {
     "name": "#%% md\n"
    }
   }
  },
  {
   "cell_type": "code",
   "execution_count": 3,
   "outputs": [
    {
     "name": "stdout",
     "output_type": "stream",
     "text": [
      "b = b\n",
      "c = c\n"
     ]
    }
   ],
   "source": [
    "from hec.global_variables import my_global_b\n",
    "from hec.global_variables import my_global_c\n",
    "print (my_global_b, \"=\", gl.my_global_b)\n",
    "print(my_global_c, \"=\", gl.my_global_c)"
   ],
   "metadata": {
    "collapsed": false,
    "pycharm": {
     "name": "#%%\n"
    }
   }
  },
  {
   "cell_type": "markdown",
   "source": [
    "## Classes to organize variables\n",
    "\n",
    "The best way to organize large codes is with the use of classes as they include\n",
    "the ability not only to add variables, but also to add methods that operate on\n",
    "these variables."
   ],
   "metadata": {
    "collapsed": false,
    "pycharm": {
     "name": "#%% md\n"
    }
   }
  },
  {
   "cell_type": "code",
   "execution_count": 2,
   "outputs": [
    {
     "name": "stdout",
     "output_type": "stream",
     "text": [
      "a\n",
      "a\n",
      "b\n",
      "c\n"
     ]
    }
   ],
   "source": [
    "from hec.myclass import myclass\n",
    "config = myclass()\n",
    "\n",
    "print(config.a)\n",
    "\n",
    "config.print_values()"
   ],
   "metadata": {
    "collapsed": false,
    "pycharm": {
     "name": "#%%\n"
    }
   }
  },
  {
   "cell_type": "markdown",
   "source": [
    "## Syntax highlights\n",
    "\n",
    "Arguably one of the most valuble features of pyCharm is syntax highlighting.\n",
    "You will need to make sure that you import in your code the libraries that you\n",
    "develop as `Mark Directory as -> Source Root`. This will make sure your syntax\n",
    "highlights are properly applied to your library. In our case we do it on `dl-hec`\n",
    "\n",
    "## Filenames in lowe case letters\n",
    "\n",
    "To be consistent and avoid issues with capitalization in filenames, as some\n",
    "operating system filesystems do not distingish between lower and uper letters\n",
    "in commandshells we recommend to use all lower case letters for filenames.\n",
    "That this is best practice can even be seen when exporting an ipython notbook\n",
    "to a python file as the filename will be converted to all lower case letters\n",
    "(at least on macOS).\n",
    "\n"
   ],
   "metadata": {
    "collapsed": false,
    "pycharm": {
     "name": "#%% md\n"
    }
   }
  }
 ]
}