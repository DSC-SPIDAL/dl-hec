{
 "nbformat": 4,
 "nbformat_minor": 0,
 "metadata": {
  "colab": {
   "provenance": []
  },
  "kernelspec": {
   "name": "python3",
   "display_name": "Python 3"
  },
  "language_info": {
   "name": "python"
  }
 },
 "cells": [
  {
   "cell_type": "markdown",
   "source": [
    "# Portable Jupyter Notebooks and libraries\n",
    "\n",
    "Gregor von Laszewski, laszewski@gmail.com\n",
    "\n",
    "In this notebook we demonstrate a portable way to develap large jupyter notebooks."
   ],
   "metadata": {
    "collapsed": false,
    "pycharm": {
     "name": "#%% md\n"
    }
   }
  },
  {
   "cell_type": "markdown",
   "source": [
    "## Editor\n",
    "\n",
    "Although colab provides an online editor, this editor has limited features and\n",
    "we recommend avoiding it. The same is said for jupyter notebooks as well as\n",
    "its successor jupyter-lab. They are good for interactively experimenting\n",
    "with notebooks when features are not supported by other more powerful editors.\n",
    "\n",
    "Two other editors are avaloable. VSCode and pyCharm. We recommend pyCharm as it\n",
    "has many code checking and formating features that are just right for developing\n",
    "large jupyter scripts.\n",
    "\n",
    "### Pycharm configuration\n",
    "\n",
    "It is important to create a python venv that you register with your pycharm\n",
    "environment so that it is the same as you use on the commandline. We name the\n",
    "environment ENV3. To do this you use\n",
    "\n",
    "```bash\n",
    "python -m venv ~/ENV3\n",
    "```\n",
    "\n",
    "To activate it in the command line you say\n",
    "\n",
    "```bash\n",
    "source ~/ENV3/bin/activate\n",
    "```\n",
    "\n",
    "For Windows you say\n",
    "\n",
    "```bash\n",
    "source ~/ENV3/Scripts/activate\n",
    "```\n",
    "\n",
    "You can then install with pip or requirements.txt files modules in theis\n",
    "environment after you ativate it. However if you were to use Google colab, it\n",
    "is easier to embed such activities in your program. This makes them portable\n",
    "across colab, and your local machine.\n",
    "\n",
    "### Installing Libraries\n",
    "\n",
    "We will give here an example on how to install cloudmesh a library with many\n",
    "useful add ons that makes managing some portion of your large script much easier.\n",
    "To install the library use"
   ],
   "metadata": {
    "collapsed": false,
    "pycharm": {
     "name": "#%% md\n"
    }
   }
  },
  {
   "cell_type": "code",
   "execution_count": null,
   "outputs": [],
   "source": [
    "import os\n",
    "os.system(\"pip install -U cloudmesh.common\")"
   ],
   "metadata": {
    "collapsed": false,
    "pycharm": {
     "name": "#%%\n"
    }
   }
  },
  {
   "cell_type": "markdown",
   "source": [
    "Now you can use the many useful features of cloudmesh. One is the easy availability\n",
    "of a banner that makes print statements more visible by putting a frame aound it."
   ],
   "metadata": {
    "collapsed": false,
    "pycharm": {
     "name": "#%% md\n"
    }
   }
  },
  {
   "cell_type": "code",
   "source": [
    "from cloudmesh.common.util import banner\n",
    "banner(\"hallo\")"
   ],
   "metadata": {
    "id": "1G4TQRC7aWlm",
    "pycharm": {
     "name": "#%%\n"
    }
   },
   "execution_count": 5,
   "outputs": [
    {
     "name": "stdout",
     "output_type": "stream",
     "text": [
      "\n",
      "# ----------------------------------------------------------------------\n",
      "# hallo\n",
      "# ----------------------------------------------------------------------\n",
      "\n"
     ]
    }
   ]
  },
  {
   "cell_type": "markdown",
   "source": [
    "One additional function is an anhanced command to run commanline programs from\n",
    "within jupyter notebooks as well as regular pythin programs. This method is\n",
    "prefered as it allows portable program execution across a variety of operating\n",
    "systems, google colab, and other environments. Thus we **DO NOT** recommend\n",
    "that you use ! or !! as command execution as it will potentially making the\n",
    "move to a future integarion in a python library of portions of the notebook\n",
    "more difficult. Instead just use the command `Shell` class from cloudmesh\n",
    "that contains mainy useful methods portable between operating systems. Such\n",
    "methods include for example `pwd`, `mkdir`, `run`, `grep`, `cm_grep` (a grep\n",
    "portable in windows, Linux, and Mac), and so on. Please refer to\n",
    "[https://github.com/cloudmesh/cloudmesh-common/blob/main/cloudmesh/common/Shell.py](Shell.py)"
   ],
   "metadata": {
    "collapsed": false,
    "pycharm": {
     "name": "#%% md\n"
    }
   }
  },
  {
   "cell_type": "code",
   "source": [
    "from cloudmesh.common.Shell import Shell"
   ],
   "metadata": {
    "id": "KwnYhkplegKe",
    "pycharm": {
     "name": "#%%\n"
    }
   },
   "execution_count": 3,
   "outputs": []
  },
  {
   "cell_type": "code",
   "source": [
    "basedir = Shell.pwd()\n",
    "print(basedir)"
   ],
   "metadata": {
    "id": "LftGR82OemE0",
    "pycharm": {
     "name": "#%%\n"
    }
   },
   "execution_count": 6,
   "outputs": [
    {
     "name": "stdout",
     "output_type": "stream",
     "text": [
      "/Users/grey/Desktop/github/dsc-spidal/dl-hec\n"
     ]
    }
   ]
  },
  {
   "cell_type": "code",
   "execution_count": null,
   "outputs": [],
   "source": [
    "datadir = f\"{basedir}/data\""
   ],
   "metadata": {
    "collapsed": false,
    "pycharm": {
     "name": "#%%\n"
    }
   }
  },
  {
   "cell_type": "code",
   "source": [
    "content = Shell.mkdir(datadir)\n",
    "os.system(f\"echo >> {datadir}/gregor.txt\")\n",
    "content = Shell.run(f\"ls {datadir}\")\n",
    "print (content)"
   ],
   "metadata": {
    "colab": {
     "base_uri": "https://localhost:8080/"
    },
    "id": "2dhKuV-BkJpt",
    "outputId": "37c5e35c-a1e3-4c2f-9ece-5f880ad3c994",
    "pycharm": {
     "name": "#%%\n"
    }
   },
   "execution_count": 37,
   "outputs": [
    {
     "output_type": "stream",
     "name": "stdout",
     "text": [
      "gregor.txt\n",
      "\n"
     ]
    }
   ]
  },
  {
   "cell_type": "markdown",
   "source": [
    "## Installing libraries directly from github\n",
    "\n",
    "To develop in a team large libraries it is best practice to use a code\n",
    "repository such as GitHub. However, although instalation of libarries into the\n",
    "venv on your local machine is simple and usually done with a requiremets.txt file,\n",
    "we can also install them directly on your local machine when checking out the code\n",
    "and using in the directory `pip install -e .` (the dot is important).\n",
    "This will make it possible on your local machine to make modifications that are\n",
    "directly available to you without reinstalling it once you do a change\n",
    "on you rlocal machine.\n",
    "\n",
    "However, on google colab you may need to do this directly from the notebook.\n",
    "It is to be noted that if you make a change the notebook kernal needs to be\n",
    "stopped or interrupted and restarted before you load in the new library. It is\n",
    "not sufficient to just go in the cell and rerun it. This means you have to\n",
    "start the notebook form the beginning. For this reason it is best to do all\n",
    "development first on the local computer before you move to colab. It will\n",
    "simplify your development cycle, especially when developing libtraries.\n",
    "Thus notebooks are not realy suitable for best practices in software\n",
    "engeneering, but are great for interactive exploration of principles\n",
    "and experiments.\n",
    "\n",
    "To include a library that is hosted on GitHub we simply can activate it in google\n",
    " col;ab directly from the latest version of the code such as (but do not forget\n",
    " to interrupt the kernal and restart it before doing this command as otherwise\n",
    " an earlier verison may be still available.)"
   ],
   "metadata": {
    "collapsed": false,
    "pycharm": {
     "name": "#%% md\n"
    }
   }
  },
  {
   "cell_type": "code",
   "source": [
    "print(Shell.run(\"pip install -U git+https://github.com/DSC-SPIDAL/dl-hec.git\"))"
   ],
   "metadata": {
    "colab": {
     "base_uri": "https://localhost:8080/"
    },
    "id": "XWsDheMrgbah",
    "outputId": "cb1efacb-0252-4cbc-b01d-8ce9d2dfa3fb",
    "pycharm": {
     "name": "#%%\n"
    }
   },
   "execution_count": 7,
   "outputs": [
    {
     "name": "stdout",
     "output_type": "stream",
     "text": [
      "Collecting git+https://github.com/DSC-SPIDAL/dl-hec.git\n",
      "  Cloning https://github.com/DSC-SPIDAL/dl-hec.git to /private/var/folders/q5/s8_pcggn5f73xnz11zjqrhlw0000gp/T/pip-req-build-ly081agt\n",
      "  Running command git clone --filter=blob:none --quiet https://github.com/DSC-SPIDAL/dl-hec.git /private/var/folders/q5/s8_pcggn5f73xnz11zjqrhlw0000gp/T/pip-req-build-ly081agt\n",
      "  Resolved https://github.com/DSC-SPIDAL/dl-hec.git to commit f7eec66ce78d4ff7baaad0be503cbc760ee95f96\n",
      "  Preparing metadata (setup.py): started\n",
      "  Preparing metadata (setup.py): finished with status 'done'\n",
      "Building wheels for collected packages: hec\n",
      "  Building wheel for hec (setup.py): started\n",
      "  Building wheel for hec (setup.py): finished with status 'done'\n",
      "  Created wheel for hec: filename=hec-1.0-py3-none-any.whl size=141946 sha256=83bd2ef18c5b388136a50e5e3fad3d13ce941b4865f79c92c8f9a399ce6a640c\n",
      "  Stored in directory: /private/var/folders/q5/s8_pcggn5f73xnz11zjqrhlw0000gp/T/pip-ephem-wheel-cache-0s65ymuk/wheels/5e/75/dc/9f2c8bb24ff4885ebcd5ecebc2b2b10644125f36c47cd7fd92\n",
      "Successfully built hec\n",
      "Installing collected packages: hec\n",
      "Successfully installed hec-1.0\n",
      "\n"
     ]
    }
   ]
  },
  {
   "cell_type": "markdown",
   "source": [
    "Now you can use the functions defined in hec.util"
   ],
   "metadata": {
    "collapsed": false,
    "pycharm": {
     "name": "#%% md\n"
    }
   }
  },
  {
   "cell_type": "code",
   "source": [
    "from hec.util import timenow"
   ],
   "metadata": {
    "id": "wIFn5X-shZqE",
    "pycharm": {
     "name": "#%%\n"
    }
   },
   "execution_count": 8,
   "outputs": []
  },
  {
   "cell_type": "code",
   "source": [
    "t = timenow()\n",
    "print (t)"
   ],
   "metadata": {
    "colab": {
     "base_uri": "https://localhost:8080/"
    },
    "id": "uOcMCaKKikIz",
    "outputId": "d81e36da-c7d4-4506-e55a-dc9fafc6f8e9",
    "pycharm": {
     "name": "#%%\n"
    }
   },
   "execution_count": 9,
   "outputs": [
    {
     "name": "stdout",
     "output_type": "stream",
     "text": [
      "01/03/2023, 08:31:13 UTC\n"
     ]
    }
   ]
  },
  {
   "cell_type": "code",
   "execution_count": 10,
   "outputs": [
    {
     "name": "stdout",
     "output_type": "stream",
     "text": [
      "nan\n"
     ]
    }
   ],
   "source": [
    "from hec.util import NaN\n",
    "print (NaN)"
   ],
   "metadata": {
    "collapsed": false,
    "pycharm": {
     "name": "#%%\n"
    }
   }
  },
  {
   "cell_type": "code",
   "execution_count": null,
   "outputs": [],
   "source": [],
   "metadata": {
    "collapsed": false,
    "pycharm": {
     "name": "#%%\n"
    }
   }
  }
 ]
}