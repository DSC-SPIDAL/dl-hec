{
 "cells": [
  {
   "cell_type": "code",
   "execution_count": 5,
   "outputs": [
    {
     "name": "stdout",
     "output_type": "stream",
     "text": [
      "{'DataFrame': <class 'pandas.core.frame.DataFrame'>,\n",
      " 'In': ['',\n",
      "        \"get_ipython().run_line_magic('run', 'globals.ipynb')\",\n",
      "        'print (global_test)',\n",
      "        \"get_ipython().run_line_magic('run', 'globals.ipynb')\\nprint globals()\",\n",
      "        \"get_ipython().run_line_magic('run', 'globals.ipynb')\\n\"\n",
      "        'print (globals())',\n",
      "        \"get_ipython().run_line_magic('run', 'globals.ipynb')\\n\"\n",
      "        'from pprint import pprint\\n'\n",
      "        'pprint (globals())'],\n",
      " 'MultiIndex': <class 'pandas.core.indexes.multi.MultiIndex'>,\n",
      " 'Out': {},\n",
      " '_': '',\n",
      " '__': '',\n",
      " '___': '',\n",
      " '__builtin__': <module 'builtins' (built-in)>,\n",
      " '__builtins__': <module 'builtins' (built-in)>,\n",
      " '__doc__': 'Automatically created module for IPython interactive environment',\n",
      " '__loader__': None,\n",
      " '__name__': '__main__',\n",
      " '__package__': None,\n",
      " '__spec__': None,\n",
      " '_dh': [PosixPath('/Users/grey/Desktop/github/dsc-spidal/dl-hec')],\n",
      " '_i': '%run globals.ipynb\\nprint (globals())',\n",
      " '_i1': '%run globals.ipynb',\n",
      " '_i2': 'print (global_test)',\n",
      " '_i3': '%run globals.ipynb\\nprint globals()',\n",
      " '_i4': '%run globals.ipynb\\nprint (globals())',\n",
      " '_i5': '%run globals.ipynb\\nfrom pprint import pprint\\npprint (globals())',\n",
      " '_ih': ['',\n",
      "         \"get_ipython().run_line_magic('run', 'globals.ipynb')\",\n",
      "         'print (global_test)',\n",
      "         \"get_ipython().run_line_magic('run', 'globals.ipynb')\\n\"\n",
      "         'print globals()',\n",
      "         \"get_ipython().run_line_magic('run', 'globals.ipynb')\\n\"\n",
      "         'print (globals())',\n",
      "         \"get_ipython().run_line_magic('run', 'globals.ipynb')\\n\"\n",
      "         'from pprint import pprint\\n'\n",
      "         'pprint (globals())'],\n",
      " '_ii': '%run globals.ipynb\\nprint globals()',\n",
      " '_iii': 'print (global_test)',\n",
      " '_oh': {},\n",
      " '_pydevd_bundle': <module '_pydevd_bundle' from '/Applications/PyCharm.app/Contents/plugins/python/helpers/pydev/_pydevd_bundle/__init__.py'>,\n",
      " 'exit': <IPython.core.autocall.ZMQExitAutocall object at 0x10afe0f50>,\n",
      " 'get_ipython': <bound method InteractiveShell.get_ipython of <ipykernel.zmqshell.ZMQInteractiveShell object at 0x10afd1710>>,\n",
      " 'global_test': 'hallo',\n",
      " 'pprint': <function pprint at 0x1063fb920>,\n",
      " 'print_columns': <function print_columns at 0x12780d580>,\n",
      " 'pydev_jupyter_vars': <module 'pydev_jupyter_vars' from '/Applications/PyCharm.app/Contents/plugins/python/helpers-pro/jupyter_debug/pydev_jupyter_vars.py'>,\n",
      " 'quit': <IPython.core.autocall.ZMQExitAutocall object at 0x10afe0f50>,\n",
      " 'remove_imported_pydev_package': <function remove_imported_pydev_package at 0x10b59e200>,\n",
      " 'sys': <module 'sys' (built-in)>}\n"
     ]
    }
   ],
   "source": [
    "%run globals.ipynb\n",
    "from pprint import pprint\n",
    "pprint (globals())"
   ],
   "metadata": {
    "collapsed": false,
    "pycharm": {
     "name": "#%%\n"
    }
   }
  },
  {
   "cell_type": "code",
   "execution_count": 7,
   "outputs": [
    {
     "name": "stdout",
     "output_type": "stream",
     "text": [
      "hallo\n"
     ]
    }
   ],
   "source": [
    "print (global_test)"
   ],
   "metadata": {
    "collapsed": false,
    "pycharm": {
     "name": "#%%\n"
    }
   }
  },
  {
   "cell_type": "code",
   "execution_count": null,
   "outputs": [],
   "source": [],
   "metadata": {
    "collapsed": false,
    "pycharm": {
     "name": "#%%\n"
    }
   }
  }
 ],
 "metadata": {
  "kernelspec": {
   "display_name": "Python 3",
   "language": "python",
   "name": "python3"
  },
  "language_info": {
   "codemirror_mode": {
    "name": "ipython",
    "version": 2
   },
   "file_extension": ".py",
   "mimetype": "text/x-python",
   "name": "python",
   "nbconvert_exporter": "python",
   "pygments_lexer": "ipython2",
   "version": "2.7.6"
  }
 },
 "nbformat": 4,
 "nbformat_minor": 0
}